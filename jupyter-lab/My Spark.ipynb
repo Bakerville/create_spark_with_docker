{
 "cells": [
  {
   "cell_type": "code",
   "execution_count": 1,
   "id": "375b57b5",
   "metadata": {},
   "outputs": [],
   "source": [
    "from pyspark.sql import SparkSession\n",
    "from pyspark import StorageLevel"
   ]
  },
  {
   "cell_type": "code",
   "execution_count": 2,
   "id": "131f746b",
   "metadata": {},
   "outputs": [
    {
     "ename": "NameError",
     "evalue": "name 'spark' is not defined",
     "output_type": "error",
     "traceback": [
      "\u001b[0;31m---------------------------------------------------------------------------\u001b[0m",
      "\u001b[0;31mNameError\u001b[0m                                 Traceback (most recent call last)",
      "Cell \u001b[0;32mIn[2], line 1\u001b[0m\n\u001b[0;32m----> 1\u001b[0m \u001b[43mspark\u001b[49m\u001b[38;5;241m.\u001b[39mstop()\n",
      "\u001b[0;31mNameError\u001b[0m: name 'spark' is not defined"
     ]
    }
   ],
   "source": [
    "spark.stop()"
   ]
  },
  {
   "cell_type": "code",
   "execution_count": 3,
   "id": "2485c222",
   "metadata": {},
   "outputs": [
    {
     "name": "stderr",
     "output_type": "stream",
     "text": [
      "24/07/19 08:41:31 WARN NativeCodeLoader: Unable to load native-hadoop library for your platform... using builtin-java classes where applicable\n",
      "Using Spark's default log4j profile: org/apache/spark/log4j-defaults.properties\n",
      "Setting default log level to \"WARN\".\n",
      "To adjust logging level use sc.setLogLevel(newLevel). For SparkR, use setLogLevel(newLevel).\n",
      "24/07/19 08:41:32 WARN SparkConf: Note that spark.local.dir will be overridden by the value set by the cluster manager (via SPARK_LOCAL_DIRS in mesos/standalone/kubernetes and LOCAL_DIRS in YARN).\n"
     ]
    }
   ],
   "source": [
    "spark = SparkSession.\\\n",
    "        builder.\\\n",
    "        appName(\"pyspark-notebook\").\\\n",
    "        master(\"spark://spark-master:7077\").\\\n",
    "        config(\"spark.executor.memory\", \"512m\").\\\n",
    "        config(\"spark.local.dir\",\"shuffle/\").\\\n",
    "        getOrCreate()"
   ]
  },
  {
   "cell_type": "code",
   "execution_count": 6,
   "id": "28dc7862",
   "metadata": {},
   "outputs": [
    {
     "data": {
      "text/plain": [
       "'shuffle/'"
      ]
     },
     "execution_count": 6,
     "metadata": {},
     "output_type": "execute_result"
    }
   ],
   "source": [
    "spark.conf.get('spark.local.dir')"
   ]
  },
  {
   "cell_type": "code",
   "execution_count": 7,
   "id": "d518512f",
   "metadata": {},
   "outputs": [
    {
     "data": {
      "text/plain": [
       "[('spark.local.dir', 'shuffle/'),\n",
       " ('spark.executor.memory', '512m'),\n",
       " ('spark.app.id', 'app-20240719084133-0000'),\n",
       " ('spark.driver.host', 'c0168aacce39'),\n",
       " ('spark.rdd.compress', 'True'),\n",
       " ('spark.driver.port', '36027'),\n",
       " ('spark.master', 'spark://spark-master:7077'),\n",
       " ('spark.serializer.objectStreamReset', '100'),\n",
       " ('spark.submit.pyFiles', ''),\n",
       " ('spark.executor.id', 'driver'),\n",
       " ('spark.app.name', 'pyspark-notebook'),\n",
       " ('spark.submit.deployMode', 'client'),\n",
       " ('spark.ui.showConsoleProgress', 'true')]"
      ]
     },
     "execution_count": 7,
     "metadata": {},
     "output_type": "execute_result"
    }
   ],
   "source": [
    "spark.sparkContext.getConf().getAll()"
   ]
  },
  {
   "cell_type": "code",
   "execution_count": 8,
   "id": "3507faf5",
   "metadata": {},
   "outputs": [
    {
     "name": "stderr",
     "output_type": "stream",
     "text": [
      "                                                                                \r"
     ]
    }
   ],
   "source": [
    "dim_customer = spark.read\\\n",
    "                    .option(\"inferSchema\", \"true\")\\\n",
    "                    .option(\"header\", \"true\")\\\n",
    "                    .csv(\"dim_customer.csv\")"
   ]
  },
  {
   "cell_type": "code",
   "execution_count": 9,
   "id": "c5619d43",
   "metadata": {},
   "outputs": [
    {
     "data": {
      "text/plain": [
       "StructType(List(StructField(CustomerKey,IntegerType,true),StructField(Prefix,StringType,true),StructField(FirstName,StringType,true),StructField(LastName,StringType,true),StructField(BirthDate,StringType,true),StructField(MaritalStatus,StringType,true),StructField(Gender,StringType,true),StructField(EmailAddress,StringType,true),StructField(AnnualIncome,StringType,true),StructField(TotalChildren,IntegerType,true),StructField(EducationLevel,StringType,true),StructField(Occupation,StringType,true),StructField(HomeOwner,StringType,true)))"
      ]
     },
     "execution_count": 9,
     "metadata": {},
     "output_type": "execute_result"
    }
   ],
   "source": [
    "dim_customer.schema"
   ]
  },
  {
   "cell_type": "code",
   "execution_count": 10,
   "id": "b077a2d0",
   "metadata": {},
   "outputs": [],
   "source": [
    "dim_customer.createOrReplaceTempView(\"dim_Customer\")"
   ]
  },
  {
   "cell_type": "code",
   "execution_count": 11,
   "id": "25b46fd5",
   "metadata": {},
   "outputs": [
    {
     "name": "stdout",
     "output_type": "stream",
     "text": [
      "+----------+\n",
      "|count_line|\n",
      "+----------+\n",
      "|     18148|\n",
      "+----------+\n",
      "\n"
     ]
    }
   ],
   "source": [
    "spark.sql(\"\"\"SELECT COUNT(*) as count_line FROM dim_Customer\"\"\").show()"
   ]
  },
  {
   "cell_type": "code",
   "execution_count": 68,
   "id": "36f0f0f9",
   "metadata": {},
   "outputs": [
    {
     "name": "stdout",
     "output_type": "stream",
     "text": [
      "+-----------+------+----------+---------+----------+-------------+------+--------------------+------------+-------------+---------------+------------+---------+\n",
      "|CustomerKey|Prefix| FirstName| LastName| BirthDate|MaritalStatus|Gender|        EmailAddress|AnnualIncome|TotalChildren| EducationLevel|  Occupation|HomeOwner|\n",
      "+-----------+------+----------+---------+----------+-------------+------+--------------------+------------+-------------+---------------+------------+---------+\n",
      "|      23500|  MRS.|   ADRIANA|   GARCIA|  6/6/1936|            M|     F|adriana16@adventu...|    $80,000 |            4|Graduate Degree|  Management|        Y|\n",
      "|      23501|  MRS.|  ISABELLE|    PERRY|  7/2/1936|            M|     F|isabelle7@adventu...|    $90,000 |            4|      Bachelors|  Management|        Y|\n",
      "|      23502|   MR.|     LOGAN|    LOPEZ|  9/7/1936|            M|     M|logan46@adventure...|   $110,000 |            2|Graduate Degree|  Management|        Y|\n",
      "|      23503|   MR.|    DALTON|   TORRES|  2/4/1960|            M|     M|dalton75@adventur...|    $80,000 |            5|Partial College|Professional|        Y|\n",
      "|      23504|   MR.|    GEORGE|     RANA|12/17/1960|            M|     M|george17@adventur...|    $80,000 |            5|Partial College|Professional|        Y|\n",
      "|      23505|   MR.|    CONNOR|   SHARMA| 9/15/1960|            S|     M|connor25@adventur...|   $110,000 |            3|Partial College|Professional|        N|\n",
      "|      23506|   MR.|     JESSE| CAMPBELL| 9/11/1960|            S|     M|jesse31@adventure...|   $150,000 |            1|Partial College|Professional|        N|\n",
      "|      23507|  MRS.|    RACHEL|HENDERSON|  2/1/1954|            M|     F|rachel52@adventur...|    $70,000 |            3|    High School|Professional|        Y|\n",
      "|      23508|   MR.|     BLAKE|    JONES| 4/18/1954|            M|     M|blake2@adventure-...|    $70,000 |            3|    High School|Professional|        Y|\n",
      "|      23509|  MRS.|     FAITH|   POWELL|  2/7/1953|            S|     F|faith8@adventure-...|    $70,000 |            3|Graduate Degree|  Management|        N|\n",
      "|      23510|  MRS.|    MORGAN|   COOPER| 5/15/1953|            M|     F|morgan56@adventur...|    $60,000 |            3|Graduate Degree|  Management|        Y|\n",
      "|      23511|   MR.|    JOSHUA|RODRIGUEZ| 9/17/1953|            M|     M|joshua22@adventur...|    $60,000 |            3|Graduate Degree|  Management|        Y|\n",
      "|      23512|   MR.|   ZACHARY|HENDERSON| 5/19/1952|            M|     M|zachary3@adventur...|    $40,000 |            3|Partial College|Professional|        Y|\n",
      "|      23513|  MRS.|      ERIN|    KELLY| 11/7/1951|            M|     F|erin6@adventure-w...|    $40,000 |            3|Partial College|Professional|        Y|\n",
      "|      23514|  MRS.|     CHLOE|     BELL| 4/17/1951|            M|     F|chloe52@adventure...|    $40,000 |            3|Partial College|Professional|        Y|\n",
      "|      23515|   MR.|   ZACHARY|   WALKER|  6/8/1951|            S|     M|zachary30@adventu...|    $40,000 |            4|Partial College|Professional|        N|\n",
      "|      23516|  MRS.|    ASHLEY|   MILLER|  6/2/1951|            S|     F|ashley6@adventure...|    $40,000 |            4|Partial College|Professional|        N|\n",
      "|      23517|   MR.|    RONALD| MARTINEZ| 7/25/1949|            M|     M|ronald20@adventur...|    $30,000 |            4|    High School|Professional|        N|\n",
      "|      23518|  MRS.| KATHERINE|    ADAMS| 4/15/1949|            S|     F|katherine63@adven...|    $30,000 |            4|    High School|Professional|        N|\n",
      "|      23519|  MRS.|JACQUELINE|     LONG|  1/9/1949|            S|     F|jacqueline10@adve...|    $30,000 |            4|    High School|Professional|        N|\n",
      "+-----------+------+----------+---------+----------+-------------+------+--------------------+------------+-------------+---------------+------------+---------+\n",
      "only showing top 20 rows\n",
      "\n"
     ]
    }
   ],
   "source": [
    "check = spark.sql(\"\"\"SELECT * FROM dim_Customer where CustomerKey>=23500\"\"\")\n",
    "check.show()"
   ]
  },
  {
   "cell_type": "code",
   "execution_count": 12,
   "id": "2879a2bf",
   "metadata": {},
   "outputs": [
    {
     "name": "stdout",
     "output_type": "stream",
     "text": [
      "+-----------+------+---------+--------+---------+-------------+------+--------------------+------------+-------------+---------------+--------------+---------+\n",
      "|CustomerKey|Prefix|FirstName|LastName|BirthDate|MaritalStatus|Gender|        EmailAddress|AnnualIncome|TotalChildren| EducationLevel|    Occupation|HomeOwner|\n",
      "+-----------+------+---------+--------+---------+-------------+------+--------------------+------------+-------------+---------------+--------------+---------+\n",
      "|      11000|   MR.|      JON|    YANG| 4/8/1966|            M|     M|jon24@adventure-w...|    $90,000 |            2|      Bachelors|  Professional|        Y|\n",
      "|      11001|   MR.|   EUGENE|   HUANG|5/14/1965|            S|     M|eugene10@adventur...|    $60,000 |            3|      Bachelors|  Professional|        N|\n",
      "|      11002|   MR.|    RUBEN|  TORRES|8/12/1965|            M|     M|ruben35@adventure...|    $60,000 |            3|      Bachelors|  Professional|        Y|\n",
      "|      11003|   MS.|  CHRISTY|     ZHU|2/15/1968|            S|     F|christy12@adventu...|    $70,000 |            0|      Bachelors|  Professional|        N|\n",
      "|      11004|  MRS.|ELIZABETH| JOHNSON| 8/8/1968|            S|     F|elizabeth5@advent...|    $80,000 |            5|      Bachelors|  Professional|        Y|\n",
      "|      11005|   MR.|    JULIO|    RUIZ| 8/5/1965|            S|     M|julio1@adventure-...|    $70,000 |            0|      Bachelors|  Professional|        Y|\n",
      "|      11007|   MR.|    MARCO|   MEHTA| 5/9/1964|            M|     M|marco14@adventure...|    $60,000 |            3|      Bachelors|  Professional|        Y|\n",
      "|      11008|  MRS.|    ROBIN| VERHOFF| 7/7/1964|            S|     F|rob4@adventure-wo...|    $60,000 |            4|      Bachelors|  Professional|        Y|\n",
      "|      11009|   MR.|  SHANNON| CARLSON| 4/1/1964|            S|     M|shannon38@adventu...|    $70,000 |            0|      Bachelors|  Professional|        N|\n",
      "|      11010|   MS.|JACQUELYN|  SUAREZ| 2/6/1964|            S|     F|jacquelyn20@adven...|    $70,000 |            0|      Bachelors|  Professional|        N|\n",
      "|      11011|   MR.|   CURTIS|      LU|11/4/1963|            M|     M|curtis9@adventure...|    $60,000 |            4|      Bachelors|  Professional|        Y|\n",
      "|      11012|  MRS.|   LAUREN|  WALKER|1/18/1968|            M|     F|lauren41@adventur...|   $100,000 |            2|      Bachelors|    Management|        Y|\n",
      "|      11013|   MR.|      IAN| JENKINS| 8/6/1968|            M|     M|ian47@adventure-w...|   $100,000 |            2|      Bachelors|    Management|        Y|\n",
      "|      11014|  MRS.|   SYDNEY| BENNETT| 5/9/1968|            S|     F|sydney23@adventur...|   $100,000 |            3|      Bachelors|    Management|        N|\n",
      "|      11015|   MS.|    CHLOE|   YOUNG|2/27/1979|            S|     F|chloe23@adventure...|    $30,000 |            0|Partial College|Skilled Manual|        N|\n",
      "|      11016|   MR.|    WYATT|    HILL|4/28/1979|            M|     M|wyatt32@adventure...|    $30,000 |            0|Partial College|Skilled Manual|        Y|\n",
      "|      11017|  MRS.|  SHANNON|    WANG|6/26/1944|            S|     F|shannon1@adventur...|    $20,000 |            4|    High School|Skilled Manual|        Y|\n",
      "|      11018|   MR.| CLARENCE|     RAI|10/9/1944|            S|     M|clarence32@advent...|    $30,000 |            2|Partial College|      Clerical|        Y|\n",
      "|      11019|   MR.|     LUKE|     LAL| 3/7/1978|            S|     M|luke18@adventure-...|    $40,000 |            0|    High School|Skilled Manual|        N|\n",
      "|      11020|   MR.|   JORDAN|    KING|9/20/1978|            S|     M|jordan73@adventur...|    $40,000 |            0|    High School|Skilled Manual|        N|\n",
      "+-----------+------+---------+--------+---------+-------------+------+--------------------+------------+-------------+---------------+--------------+---------+\n",
      "only showing top 20 rows\n",
      "\n"
     ]
    }
   ],
   "source": [
    "dim_customer.show()"
   ]
  },
  {
   "cell_type": "code",
   "execution_count": 13,
   "id": "6ef2947d",
   "metadata": {},
   "outputs": [
    {
     "name": "stderr",
     "output_type": "stream",
     "text": [
      "                                                                                \r"
     ]
    }
   ],
   "source": [
    "fact_sales = spark.read\\\n",
    "                .option(\"inferSchema\", \"true\")\\\n",
    "                .option(\"header\", \"true\")\\\n",
    "                .csv(\"fact_sales.csv\")"
   ]
  },
  {
   "cell_type": "code",
   "execution_count": 14,
   "id": "880c8401",
   "metadata": {},
   "outputs": [
    {
     "name": "stdout",
     "output_type": "stream",
     "text": [
      "+---------+----------+-----------+----------+-----------+------------+-------------+-------------+\n",
      "|OrderDate| StockDate|OrderNumber|ProductKey|CustomerKey|TerritoryKey|OrderLineItem|OrderQuantity|\n",
      "+---------+----------+-----------+----------+-----------+------------+-------------+-------------+\n",
      "| 1/1/2016|10/17/2002|    SO48797|       385|      14335|           1|            1|            1|\n",
      "| 1/1/2016| 9/30/2002|    SO48802|       383|      24923|           9|            1|            1|\n",
      "| 1/1/2016|11/29/2002|    SO48801|       326|      15493|           1|            1|            1|\n",
      "| 1/1/2016|11/16/2002|    SO48799|       352|      26708|           4|            1|            1|\n",
      "| 1/1/2016|12/16/2002|    SO48798|       369|      23332|           9|            1|            1|\n",
      "| 1/1/2016| 12/2/2002|    SO48800|       342|      15491|           5|            1|            1|\n",
      "| 1/1/2016|10/19/2002|    SO48795|       375|      16538|           8|            1|            1|\n",
      "| 1/1/2016|11/23/2002|    SO48796|       375|      15094|           7|            1|            1|\n",
      "| 1/2/2016| 12/1/2002|    SO48804|       356|      12276|           8|            1|            1|\n",
      "| 1/2/2016| 9/12/2002|    SO48814|       360|      13647|           9|            1|            1|\n",
      "| 1/2/2016|10/30/2002|    SO48812|       356|      13630|           9|            1|            1|\n",
      "| 1/2/2016| 9/15/2002|    SO48803|       383|      19416|          10|            1|            1|\n",
      "| 1/2/2016|11/23/2002|    SO48809|       369|      23411|           9|            1|            1|\n",
      "| 1/2/2016|10/27/2002|    SO48807|       324|      20892|          10|            1|            1|\n",
      "| 1/2/2016|10/10/2002|    SO48805|       330|      19318|           7|            1|            1|\n",
      "| 1/2/2016|12/11/2002|    SO48808|       368|      16552|           8|            1|            1|\n",
      "| 1/2/2016|10/18/2002|    SO48813|       362|      13631|           9|            1|            1|\n",
      "| 1/2/2016|10/22/2002|    SO48810|       369|      23415|           9|            1|            1|\n",
      "| 1/2/2016|11/30/2002|    SO48806|       340|      20885|          10|            1|            1|\n",
      "| 1/2/2016| 10/6/2002|    SO48811|       334|      15517|           4|            1|            1|\n",
      "+---------+----------+-----------+----------+-----------+------------+-------------+-------------+\n",
      "only showing top 20 rows\n",
      "\n"
     ]
    }
   ],
   "source": [
    "fact_sales.show()"
   ]
  },
  {
   "cell_type": "code",
   "execution_count": 17,
   "id": "ea6a86ef",
   "metadata": {},
   "outputs": [
    {
     "name": "stderr",
     "output_type": "stream",
     "text": [
      "24/07/19 08:42:50 WARN CacheManager: Asked to cache already cached data.\n"
     ]
    },
    {
     "data": {
      "text/plain": [
       "DataFrame[OrderDate: string, StockDate: string, OrderNumber: string, ProductKey: int, CustomerKey: int, TerritoryKey: int, OrderLineItem: int, OrderQuantity: int]"
      ]
     },
     "execution_count": 17,
     "metadata": {},
     "output_type": "execute_result"
    }
   ],
   "source": [
    "fact_sales.persist(StorageLevel.DISK_ONLY)"
   ]
  },
  {
   "cell_type": "code",
   "execution_count": 18,
   "id": "8b76889f",
   "metadata": {},
   "outputs": [
    {
     "data": {
      "text/plain": [
       "1"
      ]
     },
     "execution_count": 18,
     "metadata": {},
     "output_type": "execute_result"
    }
   ],
   "source": [
    "fact_sales.rdd.getNumPartitions()"
   ]
  },
  {
   "cell_type": "code",
   "execution_count": 19,
   "id": "02860740",
   "metadata": {},
   "outputs": [
    {
     "name": "stdout",
     "output_type": "stream",
     "text": [
      "+---------+----------+-----------+----------+-----------+------------+-------------+-------------+\n",
      "|OrderDate| StockDate|OrderNumber|ProductKey|CustomerKey|TerritoryKey|OrderLineItem|OrderQuantity|\n",
      "+---------+----------+-----------+----------+-----------+------------+-------------+-------------+\n",
      "| 1/1/2016|10/17/2002|    SO48797|       385|      14335|           1|            1|            1|\n",
      "| 1/1/2016| 9/30/2002|    SO48802|       383|      24923|           9|            1|            1|\n",
      "| 1/1/2016|11/29/2002|    SO48801|       326|      15493|           1|            1|            1|\n",
      "| 1/1/2016|11/16/2002|    SO48799|       352|      26708|           4|            1|            1|\n",
      "| 1/1/2016|12/16/2002|    SO48798|       369|      23332|           9|            1|            1|\n",
      "| 1/1/2016| 12/2/2002|    SO48800|       342|      15491|           5|            1|            1|\n",
      "| 1/1/2016|10/19/2002|    SO48795|       375|      16538|           8|            1|            1|\n",
      "| 1/1/2016|11/23/2002|    SO48796|       375|      15094|           7|            1|            1|\n",
      "| 1/2/2016| 12/1/2002|    SO48804|       356|      12276|           8|            1|            1|\n",
      "| 1/2/2016| 9/12/2002|    SO48814|       360|      13647|           9|            1|            1|\n",
      "| 1/2/2016|10/30/2002|    SO48812|       356|      13630|           9|            1|            1|\n",
      "| 1/2/2016| 9/15/2002|    SO48803|       383|      19416|          10|            1|            1|\n",
      "| 1/2/2016|11/23/2002|    SO48809|       369|      23411|           9|            1|            1|\n",
      "| 1/2/2016|10/27/2002|    SO48807|       324|      20892|          10|            1|            1|\n",
      "| 1/2/2016|10/10/2002|    SO48805|       330|      19318|           7|            1|            1|\n",
      "| 1/2/2016|12/11/2002|    SO48808|       368|      16552|           8|            1|            1|\n",
      "| 1/2/2016|10/18/2002|    SO48813|       362|      13631|           9|            1|            1|\n",
      "| 1/2/2016|10/22/2002|    SO48810|       369|      23415|           9|            1|            1|\n",
      "| 1/2/2016|11/30/2002|    SO48806|       340|      20885|          10|            1|            1|\n",
      "| 1/2/2016| 10/6/2002|    SO48811|       334|      15517|           4|            1|            1|\n",
      "+---------+----------+-----------+----------+-----------+------------+-------------+-------------+\n",
      "only showing top 20 rows\n",
      "\n"
     ]
    }
   ],
   "source": [
    "fact_sales.show()"
   ]
  },
  {
   "cell_type": "code",
   "execution_count": null,
   "id": "f2259c5b",
   "metadata": {},
   "outputs": [],
   "source": []
  },
  {
   "cell_type": "code",
   "execution_count": null,
   "id": "8cbc5563",
   "metadata": {},
   "outputs": [],
   "source": []
  }
 ],
 "metadata": {
  "kernelspec": {
   "display_name": "Python 3 (ipykernel)",
   "language": "python",
   "name": "python3"
  },
  "language_info": {
   "codemirror_mode": {
    "name": "ipython",
    "version": 3
   },
   "file_extension": ".py",
   "mimetype": "text/x-python",
   "name": "python",
   "nbconvert_exporter": "python",
   "pygments_lexer": "ipython3",
   "version": "3.9.2"
  }
 },
 "nbformat": 4,
 "nbformat_minor": 5
}
